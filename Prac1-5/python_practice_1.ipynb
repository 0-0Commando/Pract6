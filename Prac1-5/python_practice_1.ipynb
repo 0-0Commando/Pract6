{
 "nbformat": 4,
 "nbformat_minor": 0,
 "metadata": {
  "colab": {
   "provenance": []
  },
  "kernelspec": {
   "name": "python3",
   "display_name": "Python 3"
  },
  "language_info": {
   "name": "python"
  }
 },
 "cells": [
  {
   "cell_type": "markdown",
   "source": [
    "# I. Змінні та памʼять."
   ],
   "metadata": {
    "id": "p9wwt0LZzNvn"
   }
  },
  {
   "cell_type": "markdown",
   "source": [
    "1. Створити змінні, що посилаються на два цілих числа, що однакові за значенням, де значення належить проміжку від -5 до 256. Чи будуть ці змінні рівні тільки за значенням або ж ще будуть посилатися на один і той самий обʼєкт в памʼяті? Наведіть код та дайте текстову відповідь нижче."
   ],
   "metadata": {
    "id": "HTJrrm95xSV9"
   }
  },
  {
   "cell_type": "code",
   "execution_count": null,
   "metadata": {
    "id": "FHSFpb1bwTFG"
   },
   "outputs": [],
   "source": [
    "num1 = 42\n",
    "num2 = 42\n",
    "\n",
    "are_equal_values = num1 == num2\n",
    "\n",
    "are_same_objects = num1 is num2\n",
    "\n",
    "print(f\"Equal values: {are_equal_values}\")\n",
    "print(f\"Same object in memory: {are_same_objects}\")"
   ]
  },
  {
   "cell_type": "markdown",
   "source": [
    "2. Створити змінні, що посилаються на одне і те саме булеве значення. Чи будуть ці змінні рівні тільки за значенням або ж ще будуть посилатися на один і той самий обʼєкт в памʼяті? Наведіть код та дайте текстову відповідь нижче."
   ],
   "metadata": {
    "id": "N-soIzlV0Awv"
   }
  },
  {
   "cell_type": "code",
   "source": [
    "bool1 = True\n",
    "bool2 = True\n",
    "\n",
    "are_equal_values = bool1 == bool2\n",
    "\n",
    "are_same_objects = bool1 is bool2\n",
    "\n",
    "print(f\"Equal values: {are_equal_values}\")\n",
    "print(f\"Same object in memory: {are_same_objects}\")\n"
   ],
   "metadata": {
    "id": "qK1-VBih0Lgz"
   },
   "execution_count": null,
   "outputs": []
  },
  {
   "cell_type": "markdown",
   "source": [
    "*місце для текстової відповіді або коментарів *текст курсивом*"
   ],
   "metadata": {
    "id": "nD2SJcgaya4d"
   }
  },
  {
   "cell_type": "markdown",
   "source": [
    "3. За допомогою якої функції можна перевірити належність змінної до вказаного типу даних (напр. чи змінна посилається на значення булевого типу)?"
   ],
   "metadata": {
    "id": "ISORzt6M3vAt"
   }
  },
  {
   "cell_type": "code",
   "source": [
    "my_variable = True\n",
    "\n",
    "is_boolean = isinstance(my_variable, bool)\n",
    "\n",
    "print(f\"Is the variable a boolean? {is_boolean}\")\n"
   ],
   "metadata": {
    "id": "N7HHGm4H4CW7"
   },
   "execution_count": null,
   "outputs": []
  },
  {
   "cell_type": "markdown",
   "source": [
    "# II. Цілі числа та числа з рухомою комою"
   ],
   "metadata": {
    "id": "tRxugKAxwYLw"
   }
  },
  {
   "cell_type": "markdown",
   "source": [
    "4. Створити дві змінні, що посилаються на будь-які два цілих числа та продемонструвати такі арифметичні операції: додавання, віднімання, ділення, множення, ділення без залишку, ділення по модулю, приведення до ступеню. Всі результати операцій вивести на екран."
   ],
   "metadata": {
    "id": "NLHkgd5Gybc8"
   }
  },
  {
   "cell_type": "code",
   "source": [
    "num1 = 10\n",
    "num2 = 3\n",
    "\n",
    "# Addition\n",
    "addition_result = num1 + num2\n",
    "print(f\"Addition: {num1} + {num2} = {addition_result}\")\n",
    "\n",
    "# Subtraction\n",
    "subtraction_result = num1 - num2\n",
    "print(f\"Subtraction: {num1} - {num2} = {subtraction_result}\")\n",
    "\n",
    "# Division\n",
    "division_result = num1 / num2\n",
    "print(f\"Division: {num1} / {num2} = {division_result}\")\n",
    "\n",
    "# Multiplication\n",
    "multiplication_result = num1 * num2\n",
    "print(f\"Multiplication: {num1} * {num2} = {multiplication_result}\")\n",
    "\n",
    "# Division without remainder (Floor Division)\n",
    "floor_division_result = num1 // num2\n",
    "print(f\"Division without remainder: {num1} // {num2} = {floor_division_result}\")\n",
    "\n",
    "# Modulo (Remainder of Division)\n",
    "modulo_result = num1 % num2\n",
    "print(f\"Division by modulo: {num1} % {num2} = {modulo_result}\")\n",
    "\n",
    "# Exponentiation\n",
    "exponentiation_result = num1 ** num2\n",
    "print(f\"Exponentiation: {num1} ** {num2} = {exponentiation_result}\")\n"
   ],
   "metadata": {
    "id": "Ck6JaN4Qysoc"
   },
   "execution_count": null,
   "outputs": []
  },
  {
   "cell_type": "markdown",
   "source": [
    "5. Створити дві змінні, що посилаються на будь-які два числа з рухомою комою та продемонструвати такі арифметичні операції: додавання, віднімання, ділення, множення, ділення без залишку, ділення по модулю, приведення до ступеню. Всі результати операцій вивести на екран."
   ],
   "metadata": {
    "id": "tOT1crlty3cE"
   }
  },
  {
   "cell_type": "code",
   "source": [
    "float1 = 8.5\n",
    "float2 = 2.0\n",
    "\n",
    "# Addition\n",
    "addition_result = float1 + float2\n",
    "print(f\"Addition: {float1} + {float2} = {addition_result}\")\n",
    "\n",
    "# Subtraction\n",
    "subtraction_result = float1 - float2\n",
    "print(f\"Subtraction: {float1} - {float2} = {subtraction_result}\")\n",
    "\n",
    "# Division\n",
    "division_result = float1 / float2\n",
    "print(f\"Division: {float1} / {float2} = {division_result}\")\n",
    "\n",
    "# Multiplication\n",
    "multiplication_result = float1 * float2\n",
    "print(f\"Multiplication: {float1} * {float2} = {multiplication_result}\")\n",
    "\n",
    "# Division without remainder (Floor Division is not applicable to floats)\n",
    "# floor_division_result = float1 // float2  # This would raise a TypeError\n",
    "\n",
    "# Modulo (Remainder of Division is not applicable to floats)\n",
    "# modulo_result = float1 % float2  # This would raise a TypeError\n",
    "\n",
    "# Exponentiation\n",
    "exponentiation_result = float1 ** float2\n",
    "print(f\"Exponentiation: {float1} ** {float2} = {exponentiation_result}\")\n"
   ],
   "metadata": {
    "id": "m88_XOI9y-HI"
   },
   "execution_count": null,
   "outputs": []
  },
  {
   "cell_type": "markdown",
   "source": [
    "6. Спробуйте проробити всі ті самі арифметичні операції над двома змінними, що посилаються на різні булеві значення. Прокоментуйте, чому, на Вашу думку, Ви отримали саме такі результати."
   ],
   "metadata": {
    "id": "74jIsang0Yfe"
   }
  },
  {
   "cell_type": "code",
   "source": [
    "bool1 = True\n",
    "bool2 = False\n",
    "\n",
    "# Addition\n",
    "addition_result = bool1 + bool2\n",
    "print(f\"Addition: {bool1} + {bool2} = {addition_result}\")\n",
    "\n",
    "# Subtraction\n",
    "subtraction_result = bool1 - bool2\n",
    "print(f\"Subtraction: {bool1} - {bool2} = {subtraction_result}\")\n",
    "\n",
    "# Multiplication\n",
    "multiplication_result = bool1 * bool2\n",
    "print(f\"Multiplication: {bool1} * {bool2} = {multiplication_result}\")\n",
    "\n",
    "# Division\n",
    "division_result = bool1 / bool2\n",
    "print(f\"Division: {bool1} / {bool2} = {division_result}\")\n",
    "\n",
    "# Exponentiation\n",
    "exponentiation_result = bool1 ** bool2\n",
    "print(f\"Exponentiation: {bool1} ** {bool2} = {exponentiation_result}\")\n",
    "#In Python, the Boolean values True and False are internally treated as 1 and 0, respectively, during arithmetic operations."
   ],
   "metadata": {
    "id": "Py3JN4gU0eTq"
   },
   "execution_count": null,
   "outputs": []
  },
  {
   "cell_type": "markdown",
   "source": [
    "*місце для текстової відповіді або коментарів*"
   ],
   "metadata": {
    "id": "-pY4SCvo0wMG"
   }
  },
  {
   "cell_type": "markdown",
   "source": [
    "7. Використовуючи змінні з вправи 3, продемонструйте механізм явного перетворення типів, де числа з рухомою комою перетворюються на цілі числа."
   ],
   "metadata": {
    "id": "1kBClKgPzZnC"
   }
  },
  {
   "cell_type": "code",
   "source": [
    "float1 = 8.5\n",
    "float2 = 2.0\n",
    "\n",
    "# Convert floating-point numbers to integers\n",
    "int1 = int(float1)\n",
    "int2 = int(float2)\n",
    "\n",
    "# Display the original floating-point numbers and the converted integers\n",
    "print(f\"Original float1: {float1}, Converted int1: {int1}\")\n",
    "print(f\"Original float2: {float2}, Converted int2: {int2}\")\n"
   ],
   "metadata": {
    "id": "akcVeUWYzlpb"
   },
   "execution_count": null,
   "outputs": []
  },
  {
   "cell_type": "markdown",
   "source": [
    "# III. Робота зі списками."
   ],
   "metadata": {
    "id": "GYVqN9uP1D4n"
   }
  },
  {
   "cell_type": "markdown",
   "source": [
    "8. Створити список двома різними за синтаксисом способами. За допомогою вбудованої функції обчисліть довжину одного з них."
   ],
   "metadata": {
    "id": "7-DeDunw2sO-"
   }
  },
  {
   "cell_type": "code",
   "source": [
    "list1 = [1, 2, 3, 4, 5]\n",
    "\n",
    "list2 = list(range(1, 6))\n",
    "\n",
    "# Display the lists\n",
    "print(\"List 1:\", list1)\n",
    "print(\"List 2:\", list2)\n",
    "\n",
    "# Calculate and display the length of one of the lists\n",
    "length_of_list1 = len(list1)\n",
    "print(\"Length of List 1:\", length_of_list1)\n"
   ],
   "metadata": {
    "id": "jY07arjK21hH"
   },
   "execution_count": null,
   "outputs": []
  },
  {
   "cell_type": "markdown",
   "source": [
    "9. Створіть два списка та за допомогою спеціального методу додайте другий з них в якості останнього елемента першого."
   ],
   "metadata": {
    "id": "8vmGUTjL22gI"
   }
  },
  {
   "cell_type": "code",
   "source": [
    "list1 = [1, 2, 3]\n",
    "list2 = [4, 5, 6]\n",
    "\n",
    "# Use the extend() method to add elements of list2 to list1\n",
    "list1.extend(list2)\n",
    "\n",
    "# Display the combined list\n",
    "print(\"Combined List:\", list1)\n"
   ],
   "metadata": {
    "id": "DSP6lO_m4cdV"
   },
   "execution_count": null,
   "outputs": []
  },
  {
   "cell_type": "markdown",
   "source": [
    "10. Створіть два списка та за допомогою спеціального методу \"розширте\" перший (додайте всі елементи другого в кінець першого списку). Напишіть, чим відрізняються методи в завданні 9 та 10."
   ],
   "metadata": {
    "id": "6ke6ng2j4dtq"
   }
  },
  {
   "cell_type": "code",
   "source": [
    "list1 = [1, 2, 3]\n",
    "list2 = [4, 5, 6]\n",
    "\n",
    "# Use the extend() method to add elements of list2 to list1\n",
    "list1.extend(list2)\n",
    "\n",
    "# Display the combined list\n",
    "print(\"Combined List:\", list1)\n"
   ],
   "metadata": {
    "id": "DVJVvu494q8d"
   },
   "execution_count": null,
   "outputs": []
  },
  {
   "cell_type": "markdown",
   "source": [
    "*місце для відповіді*"
   ],
   "metadata": {
    "id": "LvEs8TGo6CaT"
   }
  },
  {
   "cell_type": "markdown",
   "source": [
    "11. Створіть список та відсортуйте його так, щоб:\n",
    "а) його id залишився незмінним після сортування.\n",
    "б) результат сортування був збережений у нову змінну. Підказка: для одного пункту використовуйте вбудовану функцію стортування, а в іншому - спеціальний метод для роботи зі списками."
   ],
   "metadata": {
    "id": "iu_NyJeR4vOu"
   }
  },
  {
   "cell_type": "code",
   "source": [
    "original_list = [3, 1, 4, 1, 5, 9, 2, 6]\n",
    "\n",
    "# Using sorted() function (creates a new sorted list)\n",
    "sorted_list_using_sorted = sorted(original_list)\n",
    "\n",
    "# Display the original and sorted lists\n",
    "print(\"Original List:\", original_list)\n",
    "print(\"Sorted List using sorted():\", sorted_list_using_sorted)\n",
    "\n",
    "# Display the ids of the original and sorted lists\n",
    "print(\"Id of Original List:\", id(original_list))\n",
    "print(\"Id of Sorted List using sorted():\", id(sorted_list_using_sorted))\n",
    "# a\n"
   ],
   "metadata": {
    "id": "LWdiIkDj5Nxo"
   },
   "execution_count": null,
   "outputs": []
  },
  {
   "cell_type": "code",
   "source": [
    "original_list = [3, 1, 4, 1, 5, 9, 2, 6]\n",
    "\n",
    "# Using sort() method (sorts the original list in-place)\n",
    "original_list.sort()\n",
    "\n",
    "# Display the original list (now sorted)\n",
    "print(\"Original List (sorted in-place using sort()):\", original_list)\n",
    "\n",
    "# Display the id of the original list\n",
    "print(\"Id of Original List (after in-place sorting):\", id(original_list))\n",
    "# b\n"
   ],
   "metadata": {
    "id": "JHl9vlFa5bHt"
   },
   "execution_count": null,
   "outputs": []
  },
  {
   "cell_type": "markdown",
   "source": [
    "12. Створіть список з елементами різного типу, де деякі значення елементів повторюються. За допомогою спеціального методу порахуйте кількість значень одного з елементів на Ваш вибір. Результат виведіть на екран."
   ],
   "metadata": {
    "id": "1l80guua5bia"
   }
  },
  {
   "cell_type": "code",
   "source": [
    "mixed_list = [1, \"apple\", 3.14, True, \"apple\", 'c', False, 42, \"apple\"]\n",
    "\n",
    "# Choose an element to count (e.g., \"apple\")\n",
    "element_to_count = \"apple\"\n",
    "\n",
    "# Use the count() method to count the occurrences of the chosen element\n",
    "count_result = mixed_list.count(element_to_count)\n",
    "\n",
    "# Display the original list and the count result\n",
    "print(\"Original List:\", mixed_list)\n",
    "print(f\"Number of occurrences of '{element_to_count}': {count_result}\")\n"
   ],
   "metadata": {
    "id": "tWFdczmv5z5Q"
   },
   "execution_count": null,
   "outputs": []
  },
  {
   "cell_type": "markdown",
   "source": [
    "# IV. Робота з кортежами."
   ],
   "metadata": {
    "id": "pCjR1dJb1Qbi"
   }
  },
  {
   "cell_type": "markdown",
   "source": [
    "13. Створити список з один типом елементів та на основі цього списку створити кортеж."
   ],
   "metadata": {
    "id": "te3MAUYq28TV"
   }
  },
  {
   "cell_type": "code",
   "source": [
    "my_list = [1, 2, 3, 4, 5]\n",
    "\n",
    "# Create a tuple based on the list\n",
    "my_tuple = tuple(my_list)\n",
    "\n",
    "# Display the original list and the resulting tuple\n",
    "print(\"Original List:\", my_list)\n",
    "print(\"Tuple based on the List:\", my_tuple)\n"
   ],
   "metadata": {
    "id": "uq3O114R2_H1"
   },
   "execution_count": null,
   "outputs": []
  },
  {
   "cell_type": "markdown",
   "source": [
    "14. Створити кортеж з один елементом."
   ],
   "metadata": {
    "id": "fAZCxAX06R_k"
   }
  },
  {
   "cell_type": "code",
   "source": [
    "single_element_tuple = (42,)\n",
    "\n",
    "# Display the tuple\n",
    "print(\"Tuple with One Element:\", single_element_tuple)\n"
   ],
   "metadata": {
    "id": "-QWjudqk6kHd"
   },
   "execution_count": null,
   "outputs": []
  },
  {
   "cell_type": "markdown",
   "source": [
    "15. Створити кортеж. Вивести на екран всі доступні його атрибути та методи."
   ],
   "metadata": {
    "id": "VfTSJwQF7djZ"
   }
  },
  {
   "cell_type": "code",
   "source": [
    "my_tuple = (1, 2, 3, 'apple', 'banana')\n",
    "\n",
    "# Display attributes\n",
    "print(\"Attributes:\")\n",
    "print(f\"Length of the tuple: {len(my_tuple)}\")\n",
    "print(f\"Number of occurrences of 'apple': {my_tuple.count('apple')}\")\n",
    "print(f\"Index of the first occurrence of 'banana': {my_tuple.index('banana')}\")\n",
    "\n",
    "# Display methods\n",
    "print(\"\\nMethods:\")\n",
    "print(f\"Tuple as a string: {my_tuple.__str__()}\")\n"
   ],
   "metadata": {
    "id": "x9elcFfr774r"
   },
   "execution_count": null,
   "outputs": []
  },
  {
   "cell_type": "markdown",
   "source": [
    "16. Порівняйте список та кортеж. Назвіть схожості та відмінності, випадки використання."
   ],
   "metadata": {
    "id": "8LCtYcmI6w1M"
   }
  },
  {
   "cell_type": "markdown",
   "source": [
    "**місце для відповіді*\n",
    "**Схожості між списком та кортежем:**\n",
    "\n",
    "1. **Ітерабельність:** Обидва типи даних - ітерабельні, тобто ви можете перебирати їх елементи за допомогою циклу або інших ітераційних конструкцій.\n",
    "\n",
    "2. **Збереження декількох типів даних:** Обидва можуть містити елементи різних типів даних, таких як числа, рядки, та інші об'єкти.\n",
    "\n",
    "3. **Індексація та зрізи:** Як списки, так і кортежі підтримують індексацію та зрізи, що дозволяє отримувати доступ до конкретних елементів або взяти зрізи послідовностей.\n",
    "\n",
    "**Відмінності між списком та кортежем:**\n",
    "\n",
    "1. **Мутабельність:** Основна відмінність між ними полягає в тому, що список є мутабельним (може бути змінений), тоді як кортеж є немутабельним (не може бути змінений). Це означає, що ви можете додавати, видаляти або змінювати елементи в списку, але не можете цього робити у кортежі.\n",
    "\n",
    "2. **Синтаксис:** Список створюється за допомогою квадратних дужок (`[]`), а кортеж - за допомогою круглих дужок (`()`). Навіть один елемент у круглих дужках вважається кортежем, тоді як для створення списку з одного елемента потрібно використовувати квадратні дужки.\n",
    "\n",
    "3. **Швидкість:** У багатьох випадках робота з кортежами може бути трошки ефективнішою, оскільки вони менші в розмірі і мають менше функціоналу.\n",
    "\n",
    "**Випадки використання:**\n",
    "\n",
    "- **Списки:** Використовуються там, де потрібна змінюваність. Наприклад, для зберігання динамічних даних, які можуть змінюватися протягом виконання програми.\n",
    "\n",
    "- **Кортежі:** Зазвичай використовуються там, де потрібна немутабельність та швидкодія, або коли дані є константними. Також кортежі використовуються для передачі даних між функціями, адже вони немутабельні і гарантують, що дані не будуть змінені."
   ],
   "metadata": {
    "id": "t9MwoWor7UVB"
   }
  },
  {
   "cell_type": "markdown",
   "source": [
    "# V. Індексування та слайсинг."
   ],
   "metadata": {
    "id": "QTP622J81iHk"
   }
  },
  {
   "cell_type": "markdown",
   "source": [
    "17. Створіть список з 6ти елементів. Отримайте третій елемент за допомогою двох різних індексів."
   ],
   "metadata": {
    "id": "4dmeIU-N9gHy"
   }
  },
  {
   "cell_type": "code",
   "source": [
    "my_list = ['apple', 'banana', 'cherry', 'date', 'elderberry', 'fig']\n",
    "\n",
    "# Access the third element using two different indices\n",
    "third_element_index_1 = 2  # Indexing starts from 0, so the third element has index 2\n",
    "third_element_index_2 = -4  # Negative indexing counts from the end, so -4 refers to the third element\n",
    "\n",
    "# Display the third element using two different indices\n",
    "print(\"Third Element using index 2:\", my_list[third_element_index_1])\n",
    "print(\"Third Element using index -4:\", my_list[third_element_index_2])\n"
   ],
   "metadata": {
    "id": "47LTFhfH9pRe"
   },
   "execution_count": null,
   "outputs": []
  },
  {
   "cell_type": "markdown",
   "source": [
    "18. Створіть список, де елементами цього списку також є списки. Отримай перший елемент з останнього рядка та виведи значення на екран."
   ],
   "metadata": {
    "id": "JC3BkD-67_--"
   }
  },
  {
   "cell_type": "code",
   "source": [
    "nested_list = [\n",
    "    [1, 2, 3],\n",
    "    [4, 5, 6],\n",
    "    [7, 8, 9]\n",
    "]\n",
    "\n",
    "# Get the last row (list) and then get the first element from that row\n",
    "last_row = nested_list[-1]\n",
    "first_element_last_row = last_row[0]\n",
    "\n",
    "# Display the value\n",
    "print(\"First Element from the Last Row:\", first_element_last_row)\n"
   ],
   "metadata": {
    "id": "ctR2jdq68cB0"
   },
   "execution_count": null,
   "outputs": []
  },
  {
   "cell_type": "markdown",
   "source": [
    "19. Створіть кортеж, що містить 8  елементів цілочисленного типу. Виведіть на екран три найменших значення."
   ],
   "metadata": {
    "id": "A-hPrvOS8cjx"
   }
  },
  {
   "cell_type": "code",
   "source": [
    "my_tuple = (5, 2, 8, 1, 7, 3, 6, 4)\n",
    "\n",
    "# Display the three smallest values\n",
    "smallest_values = sorted(my_tuple)[:3]\n",
    "print(\"Three Smallest Values:\", smallest_values)\n"
   ],
   "metadata": {
    "id": "GPxJKNUm8xHU"
   },
   "execution_count": null,
   "outputs": []
  },
  {
   "cell_type": "markdown",
   "source": [
    "20. Створіть список з десяти елементів різного типу. Отримайте всі елементи, окрім двох перших та двох останніх та збережіть їх в новій змінній."
   ],
   "metadata": {
    "id": "JA47PKTv8zFK"
   }
  },
  {
   "cell_type": "code",
   "source": [
    "my_list = [1, 'apple', 3.14, True, 'banana', 5, [6, 7], 'orange', 9, 'grape']\n",
    "\n",
    "# Extract all elements except the first two and the last two\n",
    "new_variable = my_list[2:-2]\n",
    "\n",
    "# Display the original list and the new variable\n",
    "print(\"Original List:\", my_list)\n",
    "print(\"New Variable:\", new_variable)\n"
   ],
   "metadata": {
    "id": "g-GAQS_kAlmr"
   },
   "execution_count": null,
   "outputs": []
  },
  {
   "cell_type": "markdown",
   "source": [
    "21. Створіть кортеж з 11ти елементів чисел з рухомою комою та отримайте кожен парний за індексом елемент в зворотньому порядку. Наприклад, маючи (1.2, 2.3, 3.3, 4.3, 5.3, 6.3, 7.3, 8.3, 9.3, 0.3), отримати (0.3, 8.3, 6.3, 4.3, 2.3). Результат збережіть в нову змінну та виведіть на екран."
   ],
   "metadata": {
    "id": "m0xrwFijAmDD"
   }
  },
  {
   "cell_type": "code",
   "source": [
    "my_tuple = (1.2, 2.3, 3.3, 4.3, 5.3, 6.3, 7.3, 8.3, 9.3, 0.3, 11.2)\n",
    "\n",
    "# Get each index-paired element in reverse order\n",
    "reversed_elements = my_tuple[::-2]\n",
    "\n",
    "# Display the original tuple and the result\n",
    "print(\"Original Tuple:\", my_tuple)\n",
    "print(\"Result (each index-paired element in reverse order):\", reversed_elements)\n"
   ],
   "metadata": {
    "id": "BQwYLEXdBVBo"
   },
   "execution_count": null,
   "outputs": []
  },
  {
   "cell_type": "markdown",
   "source": [
    "# Вітаю! Ви велика(ий) молодець, що впоралась(вся). Похваліть себе та побалуйте чимось приємним. Я Вами пишаюся."
   ],
   "metadata": {
    "id": "F0ArvieRBZsG"
   }
  }
 ]
}
