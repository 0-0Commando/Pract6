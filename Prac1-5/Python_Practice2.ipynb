{
 "nbformat": 4,
 "nbformat_minor": 0,
 "metadata": {
  "colab": {
   "provenance": []
  },
  "kernelspec": {
   "name": "python3",
   "display_name": "Python 3"
  },
  "language_info": {
   "name": "python"
  }
 },
 "cells": [
  {
   "cell_type": "markdown",
   "source": [
    "# I. Рядки (String)."
   ],
   "metadata": {
    "id": "EVJ7AflwxrZi"
   }
  },
  {
   "cell_type": "markdown",
   "source": [
    "1. Створити пустий рядок двома різними способами."
   ],
   "metadata": {
    "id": "_s5ECzz9zE61"
   }
  },
  {
   "cell_type": "code",
   "execution_count": null,
   "metadata": {
    "id": "HsDOUUMWxo6D"
   },
   "outputs": [],
   "source": [
    "empty_string1 = \"\"\n",
    "empty_string2 = ''\n"
   ]
  },
  {
   "cell_type": "markdown",
   "source": [
    "2. Створити рядок з апострофом."
   ],
   "metadata": {
    "id": "4Bdn9J3MzLf_"
   }
  },
  {
   "cell_type": "code",
   "source": [
    "line_with_apostrophe1 = \"This is a line with an apostrophe ('), using double quotation marks.\"\n",
    "line_with_apostrophe2 = 'This is a line with an apostrophe (\\'), using single quotation marks and escape character.'\n"
   ],
   "metadata": {
    "id": "OjyFU0iKzPc2"
   },
   "execution_count": null,
   "outputs": []
  },
  {
   "cell_type": "markdown",
   "source": [
    "3. Створити рядок з символом переходу на новий рядок та роздрукувати його в консоль."
   ],
   "metadata": {
    "id": "qj7LjXFazbx1"
   }
  },
  {
   "cell_type": "code",
   "source": [
    "line_with_newline = \"This is a line with a newline character.\\nNow this part is on a new line.\"\n",
    "\n",
    "print(line_with_newline)\n"
   ],
   "metadata": {
    "id": "K9J-tLXczmyo"
   },
   "execution_count": null,
   "outputs": []
  },
  {
   "cell_type": "markdown",
   "source": [
    "4. Зробити рядок з завдання №3 \"сирим\"(raw), вивести в консоль та порівняти з результатом в попередному завданні."
   ],
   "metadata": {
    "id": "XEYGh-BGzzfD"
   }
  },
  {
   "cell_type": "code",
   "source": [
    "line_with_newline_raw = r\"This is a line with a newline character.\\nNow this part is on a new line.\"\n",
    "\n",
    "print(line_with_newline_raw)\n"
   ],
   "metadata": {
    "id": "0Mb7qYqgzntd"
   },
   "execution_count": null,
   "outputs": []
  },
  {
   "cell_type": "markdown",
   "source": [
    "*місце для коментарів щодо результатів порівняння"
   ],
   "metadata": {
    "id": "xLM76Cnfz3T_"
   }
  },
  {
   "cell_type": "markdown",
   "source": [
    "5. Створити змінну, що буде посилатися на Ваше прізвище латинкою. Створити форматований рядок, який буде мати вигляд \"My surname is ______\", де на місці нижніх підкреслень буде Ваше прізвище зі змінної."
   ],
   "metadata": {
    "id": "bg_d8wM4z8dS"
   }
  },
  {
   "cell_type": "code",
   "source": [
    "latin_last_name = \"Modelius\"\n",
    "formatted_string = f\"My surname is {latin_last_name}\"\n",
    "\n",
    "print(formatted_string)\n"
   ],
   "metadata": {
    "id": "Cr847KKpz7zF"
   },
   "execution_count": null,
   "outputs": []
  },
  {
   "cell_type": "markdown",
   "source": [
    "6. Маючи рядок \"My dog is crazy.\" перетворити його на список [\"my\", \"dog\", \"is\", \"crazy\"]"
   ],
   "metadata": {
    "id": "1Nc6RqvQ0hxU"
   }
  },
  {
   "cell_type": "code",
   "source": [
    "original_line = \"My dog is crazy.\"\n",
    "word_list = original_line.lower().split()\n",
    "\n",
    "print(word_list)\n"
   ],
   "metadata": {
    "id": "dGU4MImR063l"
   },
   "execution_count": null,
   "outputs": []
  },
  {
   "cell_type": "markdown",
   "source": [
    "# II. Множини (Set)."
   ],
   "metadata": {
    "id": "rW_I9dt3x6cW"
   }
  },
  {
   "cell_type": "markdown",
   "source": [
    "7. Створити множину без елементів. Після цого за допомогою методу додайте кілька різних елементів до множини. Чи множини є змінним типом даних?"
   ],
   "metadata": {
    "id": "zNjRLHLw1Bgg"
   }
  },
  {
   "cell_type": "code",
   "source": [
    "my_set = set()\n",
    "\n",
    "# Add elements to the set\n",
    "my_set.add(\"apple\")\n",
    "my_set.add(\"banana\")\n",
    "my_set.add(\"orange\")\n",
    "\n",
    "# Print the set\n",
    "print(my_set)\n"
   ],
   "metadata": {
    "id": "CB72VZWZ1A7c"
   },
   "execution_count": null,
   "outputs": []
  },
  {
   "cell_type": "markdown",
   "source": [
    "*місце для відповіді"
   ],
   "metadata": {
    "id": "tqxtcfgK4Wkx"
   }
  },
  {
   "cell_type": "markdown",
   "source": [
    "8. Створити множину, маючи список my_list = [1, 1, 2, 67, 67, 8, 9]. Пояснити, чому \"зникли\" деякі елементи."
   ],
   "metadata": {
    "id": "gHpT0Zw_1HEF"
   }
  },
  {
   "cell_type": "code",
   "source": [
    "my_list = [1, 1, 2, 67, 67, 8, 9]\n",
    "my_set = set(my_list)\n",
    "\n",
    "print(my_set)\n"
   ],
   "metadata": {
    "id": "U5YnFsPp1OCU"
   },
   "execution_count": null,
   "outputs": []
  },
  {
   "cell_type": "markdown",
   "source": [
    "9. Створіть дві множини. Продемонстуйте над ними операції: обʼєднання, різниці, пересічі та симетричної різниці. Використовуйте методи, що не змінюють множини, а створюють нові."
   ],
   "metadata": {
    "id": "SRMkGizS1UwY"
   }
  },
  {
   "cell_type": "code",
   "source": [
    "set1 = {1, 2, 3, 4, 5}\n",
    "set2 = {3, 4, 5, 6, 7}\n",
    "\n",
    "# Union of two sets\n",
    "union_set = set1.union(set2)\n",
    "print(\"Union:\", union_set)\n",
    "\n",
    "# Difference of two sets\n",
    "difference_set = set1.difference(set2)\n",
    "print(\"Difference:\", difference_set)\n",
    "\n",
    "# Intersection of two sets\n",
    "intersection_set = set1.intersection(set2)\n",
    "print(\"Intersection:\", intersection_set)\n",
    "\n",
    "# Symmetric difference of two sets\n",
    "symmetric_difference_set = set1.symmetric_difference(set2)\n",
    "print(\"Symmetric Difference:\", symmetric_difference_set)\n"
   ],
   "metadata": {
    "id": "pj5ta1CS2LAa"
   },
   "execution_count": null,
   "outputs": []
  },
  {
   "cell_type": "markdown",
   "source": [
    "10. Створіть множину з пʼяти елементів. За допомогою спеціального методу, вилучіть три елементи один за одним з множини. Чи може гарантуватися порядок елементів у множинах?"
   ],
   "metadata": {
    "id": "ECo4rGAW2e4S"
   }
  },
  {
   "cell_type": "code",
   "source": [
    "my_set = {1, 2, 3, 4, 5}\n",
    "\n",
    "# Using pop() to remove elements\n",
    "element1 = my_set.pop()\n",
    "element2 = my_set.pop()\n",
    "element3 = my_set.pop()\n",
    "\n",
    "print(\"Removed elements:\", element1, element2, element3)\n",
    "print(\"Remaining elements in the set:\", my_set)\n"
   ],
   "metadata": {
    "id": "tCoJigA-4Ryd"
   },
   "execution_count": null,
   "outputs": []
  },
  {
   "cell_type": "markdown",
   "source": [
    "*місце для відповіді"
   ],
   "metadata": {
    "id": "t7f5oKmP2qum"
   }
  },
  {
   "cell_type": "markdown",
   "source": [
    "# III. Словники (Dictionary)."
   ],
   "metadata": {
    "id": "kWc8gkzTx7Ea"
   }
  },
  {
   "cell_type": "markdown",
   "source": [
    "11. Створіть пустий словник двома способами."
   ],
   "metadata": {
    "id": "FHIRdwck2uji"
   }
  },
  {
   "cell_type": "code",
   "source": [
    "empty_dict1 = {}\n",
    "empty_dict2 = dict()\n"
   ],
   "metadata": {
    "id": "sF2WCzwJ2yDq"
   },
   "execution_count": null,
   "outputs": []
  },
  {
   "cell_type": "markdown",
   "source": [
    "12. До одного зі словників вище додайте чотири пари елементів такі, щоб їхні ключі були різних типів."
   ],
   "metadata": {
    "id": "i5FLwj-B2ybQ"
   }
  },
  {
   "cell_type": "code",
   "source": [
    "# Creating an empty dictionary\n",
    "my_dict = {}\n",
    "\n",
    "# Adding pairs of elements with keys of different types\n",
    "my_dict[1] = \"integer_key\"\n",
    "my_dict[\"two\"] = \"string_key\"\n",
    "my_dict[3.14] = \"float_key\"\n",
    "my_dict[(\"four\", 4)] = \"tuple_key\"\n",
    "\n",
    "print(my_dict)\n"
   ],
   "metadata": {
    "id": "lqunD0EZ2_Vg"
   },
   "execution_count": null,
   "outputs": []
  },
  {
   "cell_type": "markdown",
   "source": [
    "*чи може список бути ключем? а значенням? чому?"
   ],
   "metadata": {
    "id": "XOD2Aaj13Bqx"
   }
  },
  {
   "cell_type": "markdown",
   "source": [
    "13. Використовуючи той самий словник, отримайте по ключу будь-яке значення з наявних. Тепер видаліть цю пару ключ-значення. Спробуйте знову отримати значення по цьому ж ключу. Використовуючи спеціальний метод, виправте помилку."
   ],
   "metadata": {
    "id": "9Tjhmuf73KE6"
   }
  },
  {
   "cell_type": "code",
   "source": [
    "key_to_retrieve = 1\n",
    "value_to_retrieve = my_dict.get(key_to_retrieve, \"Key not found\")\n",
    "print(f\"Value for key {key_to_retrieve}: {value_to_retrieve}\")\n",
    "\n",
    "# Delete the key-value pair\n",
    "deleted_value = my_dict.pop(key_to_retrieve, None)\n",
    "print(f\"Deleted key-value pair: {key_to_retrieve} - {deleted_value}\")\n",
    "\n",
    "# Try to get the value again by the same key\n",
    "value_after_deletion = my_dict.get(key_to_retrieve, \"Key not found\")\n",
    "print(f\"Value after deletion for key {key_to_retrieve}: {value_after_deletion}\")\n"
   ],
   "metadata": {
    "id": "cNMenuGQ3JMa"
   },
   "execution_count": null,
   "outputs": []
  },
  {
   "cell_type": "markdown",
   "source": [
    "# IV. Оператори порівняння та логічні оператори. Умови."
   ],
   "metadata": {
    "id": "SLtQabwUx7Xc"
   }
  },
  {
   "cell_type": "markdown",
   "source": [
    "14. Створіть цілочисленну змінну зі своїм щасливим або улюбленим числом. Напишіть код, який би автоматизовував наступну задачу.\n",
    "\n",
    "Якщо число парне, помножте його на 2 та виведіть результат на екран.\n",
    "\n",
    "Але якщо число непарне, помножте його на 3 та додайте 1 і виведіть на екран.\n"
   ],
   "metadata": {
    "id": "SrehzC-n3-ln"
   }
  },
  {
   "cell_type": "code",
   "source": [
    "favorite_number = 7  # Replace with your actual number\n",
    "\n",
    "# Check if the number is even or odd\n",
    "if favorite_number % 2 == 0:\n",
    "    # If even, multiply by 2\n",
    "    result = favorite_number * 2\n",
    "    print(f\"The number {favorite_number} is even. Multiplied by 2, the result is: {result}\")\n",
    "else:\n",
    "    # If odd, multiply by 3 and add 1\n",
    "    result = favorite_number * 3 + 1\n",
    "    print(f\"The number {favorite_number} is odd. Multiplied by 3 and added 1, the result is: {result}\")\n"
   ],
   "metadata": {
    "id": "g0cchKGl3-Gq"
   },
   "execution_count": null,
   "outputs": []
  },
  {
   "cell_type": "markdown",
   "source": [
    "15. Створіть рядок зі своїм імʼям латинкою. Напишіть код, який би автоматизовував наступну задачу.\n",
    "\n",
    "Якщо в імені є літера \"а\"\n",
    " або \"i\", Виведіть на екран повідомлення \"A or I is in the name\".\n",
    "\n",
    "\n",
    "\n",
    "Якщо в імені є літери \"o\" та \"n\", Виведіть на екран повідомлення \"O and N is in the name\".\n",
    "\n",
    "Також якщо в імені немає літери \"о\", але є \"n\", Виведіть на екран повідомлення \"Only N is in the name\".\n",
    "\n",
    "В решті випадків виведіть на екран повідомлення \"There is no N in the name, but there might be O\".\n",
    "\n",
    "Зверніть увагу, що, наприклад, для імені \"Antonina\" буде виведено два повідомлення."
   ],
   "metadata": {
    "id": "PRXLVdU26E5Z"
   }
  },
  {
   "cell_type": "code",
   "source": [
    "latin_name = \"Octavianus\"  # Replace with your actual Latin name\n",
    "\n",
    "# Check if the name contains the letter \"a\" or \"i\"\n",
    "if 'a' in latin_name or 'i' in latin_name:\n",
    "    print(\"A or I is in the name\")\n",
    "\n",
    "# Check if the name contains the letters \"o\" and \"n\"\n",
    "if 'o' in latin_name and 'n' in latin_name:\n",
    "    print(\"O and N are in the name\")\n",
    "\n",
    "# Check if there is no letter \"o\" but there is \"n\"\n",
    "elif 'o' not in latin_name and 'n' in latin_name:\n",
    "    print(\"Only N is in the name\")\n",
    "\n",
    "# If none of the above conditions are met\n",
    "else:\n",
    "    print(\"There is no N in the name, but there might be O\")\n"
   ],
   "metadata": {
    "id": "bQlf4ZUh6Pdz"
   },
   "execution_count": null,
   "outputs": []
  },
  {
   "cell_type": "markdown",
   "source": [
    "# Вітаю! Ви велика(ий) молодець, що впоралась(вся). Похваліть себе та побалуйте чимось приємним. Я Вами пишаюся."
   ],
   "metadata": {
    "id": "xOZP0hkx6cCr"
   }
  }
 ]
}
