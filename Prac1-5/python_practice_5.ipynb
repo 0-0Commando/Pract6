{
 "nbformat": 4,
 "nbformat_minor": 0,
 "metadata": {
  "colab": {
   "provenance": []
  },
  "kernelspec": {
   "name": "python3",
   "display_name": "Python 3"
  },
  "language_info": {
   "name": "python"
  }
 },
 "cells": [
  {
   "cell_type": "markdown",
   "source": [
    "# I. OOP"
   ],
   "metadata": {
    "id": "awfU0tMnOlHH"
   }
  },
  {
   "cell_type": "markdown",
   "source": [
    "1. (7б). Створіть клас Animal, додайте docstring, три атрибути, один з яких має значення за замовчуванням та два методи на свій розсуд."
   ],
   "metadata": {
    "id": "T6r88C4sOwbI"
   }
  },
  {
   "cell_type": "code",
   "source": [
    "class Animal:\n",
    "    \"\"\"\n",
    "    Represents an animal with basic attributes and behaviors.\n",
    "\n",
    "    Attributes:\n",
    "        name (str): The name of the animal.\n",
    "        species (str): The species of the animal.\n",
    "        age (int): The age of the animal.\n",
    "            Default value is 0.\n",
    "    \n",
    "    Methods:\n",
    "        make_sound(): Produces a sound typical for the animal.\n",
    "        birthday(): Increases the age of the animal by 1.\n",
    "    \"\"\"\n",
    "\n",
    "    def __init__(self, name, species, age=0):\n",
    "        self.name = name\n",
    "        self.species = species\n",
    "        self.age = age\n",
    "\n",
    "    def make_sound(self):\n",
    "        \"\"\"Produces a sound typical for the animal.\"\"\"\n",
    "        pass\n",
    "\n",
    "    def birthday(self):\n",
    "        \"\"\"Increases the age of the animal by 1.\"\"\"\n",
    "        self.age += 1\n"
   ],
   "metadata": {
    "id": "fWXuCGV8Oqrn"
   },
   "execution_count": null,
   "outputs": []
  },
  {
   "cell_type": "markdown",
   "source": [
    "1.1. (5б). Створіть два обʼєкти цього класу. На одному обʼєкті отримайте значення його атрибуту, а на іншому викличте один з його методів."
   ],
   "metadata": {
    "id": "CTu5Dt0_UKul"
   }
  },
  {
   "cell_type": "code",
   "source": [
    "# Creating two objects of the Animal class\n",
    "animal1 = Animal(name=\"Leo\", species=\"Lion\", age=5)\n",
    "animal2 = Animal(name=\"Bella\", species=\"Dog\")\n",
    "\n",
    "# Getting the value of the 'age' attribute for animal1\n",
    "age_of_animal1 = animal1.age\n",
    "print(f\"{animal1.name}'s age is: {age_of_animal1}\")\n",
    "\n",
    "# Calling the 'make_sound' method for animal2\n",
    "animal2.make_sound()\n"
   ],
   "metadata": {
    "id": "nLQqAIlKUQRP"
   },
   "execution_count": null,
   "outputs": []
  },
  {
   "cell_type": "markdown",
   "source": [
    "2. (9б). Створіть клас, де атрибути мають різні рівні доступу. Спробуйте отримати їхні значення та опишіть результати."
   ],
   "metadata": {
    "id": "3KKpQYcWRNgj"
   }
  },
  {
   "cell_type": "code",
   "source": [
    "class MyClass:\n",
    "    \"\"\"\n",
    "    A class with attributes having different access levels.\n",
    "\n",
    "    Attributes:\n",
    "        public_attr (int): Public attribute.\n",
    "        _protected_attr (int): Protected attribute.\n",
    "        __private_attr (int): Private attribute.\n",
    "    \"\"\"\n",
    "\n",
    "    def __init__(self, public_val, protected_val, private_val):\n",
    "        self.public_attr = public_val\n",
    "        self._protected_attr = protected_val\n",
    "        self.__private_attr = private_val\n",
    "\n",
    "# Creating an object of the MyClass\n",
    "my_object = MyClass(public_val=10, protected_val=20, private_val=30)\n",
    "\n",
    "# Accessing attributes with different access levels\n",
    "print(\"Public Attribute:\", my_object.public_attr)  # Accessible\n",
    "print(\"Protected Attribute:\", my_object._protected_attr)  # Accessible but conventionally considered protected\n",
    "# print(\"Private Attribute:\", my_object.__private_attr)  # This line will result in an AttributeError\n",
    "\n",
    "# However, Python uses name mangling for private attributes\n",
    "# So, accessing it using the modified name is possible\n",
    "print(\"Private Attribute (Name Mangling):\", my_object._MyClass__private_attr)\n"
   ],
   "metadata": {
    "id": "PlMQmzciRM_D"
   },
   "execution_count": null,
   "outputs": []
  },
  {
   "cell_type": "markdown",
   "source": [
    "3. (8б). Як ви розумієте термін self? Для чого використовується метод __init __?"
   ],
   "metadata": {
    "id": "iaoOLp4RRZyc"
   }
  },
  {
   "cell_type": "markdown",
   "source": [
    "\n",
    "In Python classes:\n",
    "\n",
    "self refers to the instance of the class and is the first parameter in class methods.\n",
    "__init__ is a special method for initializing object attributes when an instance is created."
   ],
   "metadata": {
    "id": "-yuvBRjFRlz5"
   }
  },
  {
   "cell_type": "markdown",
   "source": [
    "4. (8б). Створіть клас Фігура без атрибутів, з методом get_area для отримання площі фігури, що повертає 0 та __add __, який приймає self та other в якості аргументів, а повертає суму площин фігур self та other."
   ],
   "metadata": {
    "id": "nVectYeATZAi"
   }
  },
  {
   "cell_type": "code",
   "source": [
    "class Shape:\n",
    "    \"\"\"\n",
    "    A simple Shape class with methods to get the area and add areas of shapes.\n",
    "    \"\"\"\n",
    "\n",
    "    def get_area(self):\n",
    "        \"\"\"Returns the area of the shape (default is 0).\"\"\"\n",
    "        return 0\n",
    "\n",
    "    def __add__(self, other):\n",
    "        \"\"\"Returns the sum of the areas of self and another shape.\"\"\"\n",
    "        return self.get_area() + other.get_area()\n"
   ],
   "metadata": {
    "id": "EYvcpzHbRZLz"
   },
   "execution_count": null,
   "outputs": []
  },
  {
   "cell_type": "markdown",
   "source": [
    "5. (11б). Створіть 2 дочірніх класи від Фігури: Трикутник та Коло, які мають атрибути, необхідні для розрахунку площин. Визначте метод get_area в кожному з них так, щоби вони розраховували площу в залежності від формули для кожного типу фігури. Створіть обʼєкт класу Трикутник та обʼєкт класу Коло. Виконайте операцію суми за допомогою оператора + між ними."
   ],
   "metadata": {
    "id": "PheOkqlCg9SD"
   }
  },
  {
   "cell_type": "code",
   "source": [
    "import math\n",
    "\n",
    "class Shape:\n",
    "    def get_area(self):\n",
    "        return 0\n",
    "\n",
    "    def __add__(self, other):\n",
    "        return self.get_area() + other.get_area()\n",
    "\n",
    "class Triangle(Shape):\n",
    "    def __init__(self, base, height):\n",
    "        self.base = base\n",
    "        self.height = height\n",
    "\n",
    "    def get_area(self):\n",
    "        return 0.5 * self.base * self.height\n",
    "\n",
    "class Circle(Shape):\n",
    "    def __init__(self, radius):\n",
    "        self.radius = radius\n",
    "\n",
    "    def get_area(self):\n",
    "        return math.pi * self.radius**2\n",
    "\n",
    "# Creating objects of Triangle and Circle\n",
    "triangle_obj = Triangle(base=4, height=5)\n",
    "circle_obj = Circle(radius=3)\n",
    "\n",
    "# Summing the areas using the + operator\n",
    "total_area = triangle_obj + circle_obj\n",
    "\n",
    "print(f'The total area is: {total_area}')\n"
   ],
   "metadata": {
    "id": "7Jo8-rqlhNSw"
   },
   "execution_count": null,
   "outputs": []
  },
  {
   "cell_type": "markdown",
   "source": [
    "6. (7б). Продемонструйте різницю між isinstance та issubclass."
   ],
   "metadata": {
    "id": "WxW51aGIhN2q"
   }
  },
  {
   "cell_type": "code",
   "source": [
    "class Shape:\n",
    "    pass\n",
    "\n",
    "class Triangle(Shape):\n",
    "    pass\n",
    "\n",
    "# Using isinstance\n",
    "triangle_obj = Triangle()\n",
    "print(isinstance(triangle_obj, Triangle))  # Output: True\n",
    "print(isinstance(triangle_obj, Shape))  # Output: True\n",
    "\n",
    "# Using issubclass\n",
    "print(issubclass(Triangle, Shape))  # Output: True\n",
    "print(issubclass(Shape, Triangle))  # Output: False\n"
   ],
   "metadata": {
    "id": "E-QybeYShdAu"
   },
   "execution_count": null,
   "outputs": []
  },
  {
   "cell_type": "markdown",
   "source": [
    "7. (16б). Створіть клас BankAccount з приватними атрибутами balance та account_number.\n",
    "Реалізуйте методи поповнення та зняття коштів, забезпечивши належну інкапсуляцію. Підказка: використовуйте декоратори getter та setter."
   ],
   "metadata": {
    "id": "Mrup7UL3hfC3"
   }
  },
  {
   "cell_type": "code",
   "source": [
    "class BankAccount:\n",
    "    def __init__(self, account_number, initial_balance=0):\n",
    "        self._account_number = account_number\n",
    "        self._balance = initial_balance\n",
    "\n",
    "    @property\n",
    "    def account_number(self):\n",
    "        return self._account_number\n",
    "\n",
    "    @property\n",
    "    def balance(self):\n",
    "        return self._balance\n",
    "\n",
    "    @balance.setter\n",
    "    def balance(self, new_balance):\n",
    "        if new_balance >= 0:\n",
    "            self._balance = new_balance\n",
    "        else:\n",
    "            print(\"Invalid balance value. Balance must be non-negative.\")\n",
    "\n",
    "    def deposit(self, amount):\n",
    "        if amount > 0:\n",
    "            self._balance += amount\n",
    "            print(f\"Deposited ${amount}. New balance: ${self._balance}\")\n",
    "        else:\n",
    "            print(\"Invalid deposit amount. Amount must be greater than 0.\")\n",
    "\n",
    "    def withdrawal(self, amount):\n",
    "        if 0 < amount <= self._balance:\n",
    "            self._balance -= amount\n",
    "            print(f\"Withdrawn ${amount}. New balance: ${self._balance}\")\n",
    "        else:\n",
    "            print(\"Invalid withdrawal amount or insufficient funds.\")\n"
   ],
   "metadata": {
    "id": "Vi8gw9G6i37Y"
   },
   "execution_count": null,
   "outputs": []
  },
  {
   "cell_type": "markdown",
   "source": [
    "8. (16б). Створіть клас Library, який містить список об'єктів типу Book.\n",
    "Реалізуйте методи для додавання книги, видалення книги та відображення списку книг."
   ],
   "metadata": {
    "id": "q1mgZYuFjB_q"
   }
  },
  {
   "cell_type": "code",
   "source": [
    "class Book:\n",
    "    def __init__(self, title, author):\n",
    "        self.title = title\n",
    "        self.author = author\n",
    "\n",
    "class Library:\n",
    "    def __init__(self):\n",
    "        self.books = []\n",
    "\n",
    "    def add_book(self, book):\n",
    "        self.books.append(book)\n",
    "        print(f\"Book '{book.title}' by {book.author} added to the library.\")\n",
    "\n",
    "    def remove_book(self, title):\n",
    "        for book in self.books:\n",
    "            if book.title == title:\n",
    "                self.books.remove(book)\n",
    "                print(f\"Book '{title}' removed from the library.\")\n",
    "                return\n",
    "        print(f\"Book '{title}' not found in the library.\")\n",
    "\n",
    "    def display_books(self):\n",
    "        if not self.books:\n",
    "            print(\"The library is empty.\")\n",
    "        else:\n",
    "            print(\"List of Books in the Library:\")\n",
    "            for book in self.books:\n",
    "                print(f\"Title: {book.title}, Author: {book.author}\")\n",
    "\n",
    "# Example usage\n",
    "library = Library()\n",
    "\n",
    "book1 = Book(\"The Great Gatsby\", \"F. Scott Fitzgerald\")\n",
    "book2 = Book(\"To Kill a Mockingbird\", \"Harper Lee\")\n",
    "\n",
    "library.add_book(book1)\n",
    "library.add_book(book2)\n",
    "library.display_books()\n",
    "\n",
    "library.remove_book(\"The Great Gatsby\")\n",
    "library.display_books()\n"
   ],
   "metadata": {
    "id": "z1W8DINmjQQj"
   },
   "execution_count": null,
   "outputs": []
  },
  {
   "cell_type": "markdown",
   "source": [
    "9. (13б). Створіть клас Person з атрибутами name та age.\n",
    "Створіть ще один клас Employee з такими атрибутами, як department та salary.\n",
    "Створіть клас Manager, який успадковує обидва класи Person та Employee. Продемонструйте використання множинної спадковості, створивши обʼєкт класу Manager та отримавши mro для цього класу."
   ],
   "metadata": {
    "id": "cCzctafPjwiZ"
   }
  },
  {
   "cell_type": "code",
   "source": [
    "class Person:\n",
    "    def __init__(self, name, age):\n",
    "        self.name = name\n",
    "        self.age = age\n",
    "\n",
    "class Employee:\n",
    "    def __init__(self, department, salary):\n",
    "        self.department = department\n",
    "        self.salary = salary\n",
    "\n",
    "class Manager(Person, Employee):\n",
    "    def __init__(self, name, age, department, salary):\n",
    "        Person.__init__(self, name, age)\n",
    "        Employee.__init__(self, department, salary)\n",
    "\n",
    "# Creating an object of the Manager class\n",
    "manager = Manager(name=\"John Doe\", age=35, department=\"HR\", salary=75000)\n",
    "\n",
    "# Getting the Method Resolution Order (MRO) for the Manager class\n",
    "print(\"Method Resolution Order (MRO) for Manager class:\", Manager.mro())\n"
   ],
   "metadata": {
    "id": "tZQ8-tfPk1k5"
   },
   "execution_count": null,
   "outputs": []
  },
  {
   "cell_type": "markdown",
   "source": [
    "# Вітаю! Ви велика(ий) молодець, що впоралась(вся). Похваліть себе та побалуйте чимось приємним. Я Вами пишаюся."
   ],
   "metadata": {
    "id": "dzH9DdFTOxCC"
   }
  }
 ]
}
