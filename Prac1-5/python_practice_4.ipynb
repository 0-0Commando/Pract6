{
 "nbformat": 4,
 "nbformat_minor": 0,
 "metadata": {
  "colab": {
   "provenance": []
  },
  "kernelspec": {
   "name": "python3",
   "display_name": "Python 3"
  },
  "language_info": {
   "name": "python"
  }
 },
 "cells": [
  {
   "cell_type": "markdown",
   "source": [
    "# I. Functions. Arguments."
   ],
   "metadata": {
    "id": "-xM96SkgLNxS"
   }
  },
  {
   "cell_type": "markdown",
   "source": [
    "0. (5б) Назвіть 4 частини, з яких складається визначення функції."
   ],
   "metadata": {
    "id": "RFkkDC1jikAI"
   }
  },
  {
   "cell_type": "code",
   "source": [
    "Name\n",
    "Parameters\n",
    "Body\n",
    "Return"
   ],
   "metadata": {
    "id": "tV4xxWnFisqZ"
   },
   "execution_count": null,
   "outputs": []
  },
  {
   "cell_type": "markdown",
   "source": [
    "1. (4б) Визначте функцію, що приймає 2 аргументи та повертає результат ділення 1го аргумента на інший."
   ],
   "metadata": {
    "id": "mg6qjOB2LbVs"
   }
  },
  {
   "cell_type": "code",
   "execution_count": null,
   "metadata": {
    "id": "lUbA_FWjKxQD"
   },
   "outputs": [],
   "source": [
    "def rotate_result(arg1, arg2):\n",
    "    \"\"\"Takes two arguments and rotates the result of dividing the first argument by the second.\"\"\"\n",
    "    return arg2 / arg1\n"
   ]
  },
  {
   "cell_type": "markdown",
   "source": [
    "2. (2б) Викличте вище визначену функцію, де другий аргумент дорівнює 0."
   ],
   "metadata": {
    "id": "wMAYj2KXLpiJ"
   }
  },
  {
   "cell_type": "code",
   "source": [
    "def rotate_result(arg1, arg2):\n",
    "    \"\"\"Takes two arguments and rotates the result of dividing the first argument by the second.\"\"\"\n",
    "    if arg2 == 0:\n",
    "        return \"Cannot divide by zero\"\n",
    "    return arg2 / arg1\n"
   ],
   "metadata": {
    "id": "103jJj32Lo4Y"
   },
   "execution_count": null,
   "outputs": []
  },
  {
   "cell_type": "markdown",
   "source": [
    "3. (6б) Перевизначте функцію так, щоби у випадку ділення на 0 функція повертала None, а в решті випадків - результат розрахунків."
   ],
   "metadata": {
    "id": "eT-pwEwPMD3T"
   }
  },
  {
   "cell_type": "code",
   "source": [
    "def rotate_result(arg1, arg2):\n",
    "    \"\"\"Takes two arguments and rotates the result of dividing the first argument by the second.\"\"\"\n",
    "    if arg2 == 0:\n",
    "        return None\n",
    "    return arg2 / arg1\n"
   ],
   "metadata": {
    "id": "1h6Jz7CKMTk_"
   },
   "execution_count": null,
   "outputs": []
  },
  {
   "cell_type": "markdown",
   "source": [
    "4. (5б) Напишіть документацію (docstring) у форматі Google до функції, що має обчислювати суму двох чисел."
   ],
   "metadata": {
    "id": "iuTiofyDMVMG"
   }
  },
  {
   "cell_type": "code",
   "source": [
    "def calculate_sum(a, b):\n",
    "    \"\"\"\n",
    "    Calculates the sum of two numbers.\n",
    "\n",
    "    Args:\n",
    "        a (float or int): The first number.\n",
    "        b (float or int): The second number.\n",
    "\n",
    "    Returns:\n",
    "        float or int: The sum of the two input numbers.\n",
    "\n",
    "    Example:\n",
    "        >>> calculate_sum(3, 5)\n",
    "        8\n",
    "        >>> calculate_sum(2.5, 7.5)\n",
    "        10.0\n",
    "    \"\"\"\n",
    "    return a + b\n"
   ],
   "metadata": {
    "id": "a9E6iU_iNyYQ"
   },
   "execution_count": null,
   "outputs": []
  },
  {
   "cell_type": "markdown",
   "source": [
    "5. (4б) Реалізуйте цю функцію (із додаванням docstring у визначення функції)."
   ],
   "metadata": {
    "id": "ZvrsUQZFN5VT"
   }
  },
  {
   "cell_type": "code",
   "source": [
    "result = calculate_sum(3, 5)\n",
    "print(result)  # Output: 8\n",
    "\n",
    "result_float = calculate_sum(2.5, 7.5)\n",
    "print(result_float)  # Output: 10.0\n"
   ],
   "metadata": {
    "id": "K5h3KTVuOBP3"
   },
   "execution_count": null,
   "outputs": []
  },
  {
   "cell_type": "markdown",
   "source": [
    "6. (6б) Визначте функцію, що віднімає одне число від іншого (підказка: це буде 2 аргументи функції). При чому, якщо не визначити, скільки саме має бути віднято від числа, за замовчуванням має відніматися 1. Викличте функцію, передаючи тільки один аргумент."
   ],
   "metadata": {
    "id": "IILi2wfYOwYb"
   }
  },
  {
   "cell_type": "code",
   "source": [
    "def custom_function(arg1, arg2=None):\n",
    "    \"\"\"\n",
    "    Returns one number if two arguments are provided, and another number if only one argument is passed.\n",
    "\n",
    "    Args:\n",
    "        arg1 (float or int): The first argument.\n",
    "        arg2 (float or int, optional): The second argument. Defaults to None.\n",
    "\n",
    "    Returns:\n",
    "        float or int: The result based on the number of arguments provided.\n",
    "\n",
    "    Example:\n",
    "        >>> custom_function(3, 5)\n",
    "        8\n",
    "        >>> custom_function(2.5)\n",
    "        5.0\n",
    "    \"\"\"\n",
    "    if arg2 is not None:\n",
    "        return arg1 + arg2\n",
    "    else:\n",
    "        return arg1\n",
    "\n",
    "# Call the function with two arguments\n",
    "result_two_args = custom_function(3, 5)\n",
    "print(result_two_args)  # Output: 8\n",
    "\n",
    "# Call the function with only one argument\n",
    "result_one_arg = custom_function(2.5)\n",
    "print(result_one_arg)  # Output: 2.5\n"
   ],
   "metadata": {
    "id": "hybHnk8ROvxQ"
   },
   "execution_count": null,
   "outputs": []
  },
  {
   "cell_type": "markdown",
   "source": [
    "7. (10б) Визначте функцію, яка приймає iterable (ітерабельний обʼєкт, напр. список), що складається з 7ми рядкових значень - назв погодних умов (напр. \"sunny\") за кожен день у тижні. Повертає функція словник, де ключами є рядки з погодними умовами, а значеннями - кількість разів, скільки дана погода була протягом тижня (напр. {'sunny': 1, ...})."
   ],
   "metadata": {
    "id": "UK6o8zcuR7cH"
   }
  },
  {
   "cell_type": "code",
   "source": [
    "def weather_statistics(weather_data):\n",
    "    \"\"\"\n",
    "    Takes an iterable containing the names of weather conditions for each day and returns a dictionary\n",
    "    where the keys are the unique weather conditions, and the values are the number of occurrences.\n",
    "\n",
    "    Args:\n",
    "        weather_data (iterable): An iterable containing weather conditions for each day.\n",
    "\n",
    "    Returns:\n",
    "        dict: A dictionary where keys are unique weather conditions and values are the number of occurrences.\n",
    "\n",
    "    Example:\n",
    "        >>> weather_data = ['sunny', 'rainy', 'cloudy', 'sunny', 'rainy']\n",
    "        >>> weather_statistics(weather_data)\n",
    "        {'sunny': 2, 'rainy': 2, 'cloudy': 1}\n",
    "    \"\"\"\n",
    "    weather_dict = {}\n",
    "    for condition in weather_data:\n",
    "        weather_dict[condition] = weather_dict.get(condition, 0) + 1\n",
    "    return weather_dict\n",
    "\n",
    "# Example usage:\n",
    "weather_data = ['sunny', 'rainy', 'cloudy', 'sunny', 'rainy']\n",
    "result = weather_statistics(weather_data)\n",
    "print(result)\n",
    "# Output: {'sunny': 2, 'rainy': 2, 'cloudy': 1}\n"
   ],
   "metadata": {
    "id": "3gkR5gl0SyYO"
   },
   "execution_count": null,
   "outputs": []
  },
  {
   "cell_type": "markdown",
   "source": [
    "8. (3б) Викличте цю функцію тричі з різними аргументами та виведіть результати на екран."
   ],
   "metadata": {
    "id": "x4zhem_2Syf7"
   }
  },
  {
   "cell_type": "code",
   "source": [
    "# Example 1\n",
    "result_sum1 = calculate_sum(3, 5)\n",
    "print(result_sum1)  # Output: 8\n",
    "\n",
    "# Example 2\n",
    "result_sum2 = calculate_sum(2.5, 7.5)\n",
    "print(result_sum2)  # Output: 10.0\n",
    "\n",
    "# Example 3\n",
    "result_weather = weather_statistics(['sunny', 'rainy', 'cloudy', 'sunny', 'rainy'])\n",
    "print(result_weather)\n",
    "# Output: {'sunny': 2, 'rainy': 2, 'cloudy': 1}\n"
   ],
   "metadata": {
    "id": "B0agh7urS0Fc"
   },
   "execution_count": null,
   "outputs": []
  },
  {
   "cell_type": "markdown",
   "source": [
    "9. (15б) Напишіть програму, яка б шукала необхідне число у **впорядкованому** списку цілочислених значень, де\n",
    "\n",
    "\n",
    "1.   число має вводитись з консолі.\n",
    "2.   власне алгоритм пошуку винесений в окрему функцію, яка повертає булеве значення (знайдено число - True, не знайдено - False).\n",
    "3. в залежності від результату функції, виведіть на екран повідомлення про успішний або ж неуспішний пошук.\n",
    "\n",
    "\n",
    "**Зауваження**: використовувати оператор **in** заборонено."
   ],
   "metadata": {
    "id": "bLgviTMlUlNG"
   }
  },
  {
   "cell_type": "code",
   "source": [
    "def binary_search(target, ordered_list):\n",
    "    left, right = 0, len(ordered_list) - 1\n",
    "\n",
    "    while left <= right:\n",
    "        mid = (left + right) // 2\n",
    "        if ordered_list[mid] == target:\n",
    "            return True\n",
    "        elif ordered_list[mid] < target:\n",
    "            left = mid + 1\n",
    "        else:\n",
    "            right = mid - 1\n",
    "\n",
    "    return False\n",
    "\n",
    "# Input: Get the number from the console\n",
    "target_number = int(input(\"Enter the number to search: \"))\n",
    "\n",
    "# Ordered list of integers\n",
    "my_ordered_list = [1, 3, 5, 7, 9, 11, 13, 15, 17, 19]\n",
    "\n",
    "# Call the search function\n",
    "result = binary_search(target_number, my_ordered_list)\n",
    "\n",
    "# Display the result\n",
    "if result:\n",
    "    print(f\"The number {target_number} was found in the list.\")\n",
    "else:\n",
    "    print(f\"The number {target_number} was not found in the list.\")\n"
   ],
   "metadata": {
    "id": "LAHz6MmdcWfP"
   },
   "execution_count": null,
   "outputs": []
  },
  {
   "cell_type": "markdown",
   "source": [
    "# II. Lambda functions."
   ],
   "metadata": {
    "id": "wCKOEiKhLSld"
   }
  },
  {
   "cell_type": "markdown",
   "source": [
    "10. (6б) Визначте анонімну функцію, що виконувала б завдання з задачі №1."
   ],
   "metadata": {
    "id": "c4EBfW6QcXF7"
   }
  },
  {
   "cell_type": "code",
   "source": [
    "rotate_result = lambda arg1, arg2: None if arg2 == 0 else arg2 / arg1\n"
   ],
   "metadata": {
    "id": "sGgO6KjuhUj5"
   },
   "execution_count": null,
   "outputs": []
  },
  {
   "cell_type": "markdown",
   "source": [
    "11. (5б) В яких випадках варто використовувати лямбда-функції?"
   ],
   "metadata": {
    "id": "fWa0efmRhepO"
   }
  },
  {
   "cell_type": "markdown",
   "source": [
    "\n",
    "Lambda functions are suitable for short, simple operations, particularly in functional programming, as anonymous callbacks, and for short-lived functions when readability is improved."
   ],
   "metadata": {
    "id": "R68BViaPhad_"
   }
  },
  {
   "cell_type": "markdown",
   "source": [
    "12. (9б) Визначте список з рядками. Після цього визначте анонімну функцію для отримання першого символу у верхньому регістрі для кожного рядка списку.\n",
    "*Підказка*: використовуйте анонімну функцію в якості агрумента до вбудованої ф-ції, яка створена для застосування функцій над iterable обʼєктами.\n",
    "Результат виведіть на екран у вигляді кортежу."
   ],
   "metadata": {
    "id": "0CL6ikIkhU7j"
   }
  },
  {
   "cell_type": "code",
   "source": [
    "my_strings = ['apple', 'Banana', 'cherry', 'Date']\n",
    "\n",
    "result = tuple(map(lambda s: next((c for c in s if c.isupper()), None), my_strings))\n",
    "\n",
    "print(result)\n"
   ],
   "metadata": {
    "id": "I1Lw2SSNhhJw"
   },
   "execution_count": null,
   "outputs": []
  },
  {
   "cell_type": "markdown",
   "source": [
    "# III. Decorators."
   ],
   "metadata": {
    "id": "rgGmGt67m5yi"
   }
  },
  {
   "cell_type": "markdown",
   "source": [
    "13. (15б) Визначте декоратор, який би виводив у консоль повідомлення про початок роботи і назву функції, а після відпрацювання функції - повідомлення про закінчення роботи і назву функції, що задекорована."
   ],
   "metadata": {
    "id": "DZm1W0Qqncu8"
   }
  },
  {
   "cell_type": "code",
   "source": [
    "def my_decorator(func):\n",
    "    def wrapper(*args, **kwargs):\n",
    "        print(f\"Start of work for function: {func.__name__}\")\n",
    "        result = func(*args, **kwargs)\n",
    "        print(f\"End of work for function: {func.__name__}\")\n",
    "        return result\n",
    "    return wrapper\n",
    "\n",
    "@my_decorator\n",
    "def example_function():\n",
    "    print(\"Executing the example function\")\n",
    "\n",
    "# Call the decorated function\n",
    "example_function()\n"
   ],
   "metadata": {
    "id": "5s3X3F6soer0"
   },
   "execution_count": null,
   "outputs": []
  },
  {
   "cell_type": "markdown",
   "source": [
    "14. (7б) Задекоруйте функції з завдання 3, 5 та 6 декоратором із завдання 13. *Примітка*: продемонструйте 2 способи, як можна задекорувати функції (**УВАГА**: не декоруйте функції двічі!)."
   ],
   "metadata": {
    "id": "AlGt40oVofHB"
   }
  },
  {
   "cell_type": "code",
   "source": [
    "# Decorator definition\n",
    "def my_decorator(func):\n",
    "    def wrapper(*args, **kwargs):\n",
    "        print(f\"Start of work for function: {func.__name__}\")\n",
    "        result = func(*args, **kwargs)\n",
    "        print(f\"End of work for function: {func.__name__}\")\n",
    "        return result\n",
    "    return wrapper\n",
    "\n",
    "# Function from Exercise 3\n",
    "@my_decorator\n",
    "def calculate_sum(a, b):\n",
    "    return a + b\n",
    "\n",
    "# Function from Exercise 5\n",
    "@my_decorator\n",
    "def weather_statistics(weather_data):\n",
    "    weather_dict = {}\n",
    "    for condition in weather_data:\n",
    "        weather_dict[condition] = weather_dict.get(condition, 0) + 1\n",
    "    return weather_dict\n",
    "\n",
    "# Function from Exercise 6\n",
    "@my_decorator\n",
    "def rotate_result(arg1, arg2):\n",
    "    return None if arg2 == 0 else arg2 / arg1\n",
    "\n",
    "# Another way to apply the decorator\n",
    "decorated_weather_statistics = my_decorator(weather_statistics)\n",
    "decorated_rotate_result = my_decorator(rotate_result)\n",
    "\n",
    "# Example usage\n",
    "result_sum = calculate_sum(3, 5)\n",
    "result_weather = decorated_weather_statistics(['sunny', 'rainy', 'cloudy', 'sunny', 'rainy'])\n",
    "result_rotate = decorated_rotate_result(2, 4)\n",
    "\n",
    "# Display results\n",
    "print(result_sum)\n",
    "print(result_weather)\n",
    "print(result_rotate)\n"
   ],
   "metadata": {
    "id": "hkxhoRVqo1AW"
   },
   "execution_count": null,
   "outputs": []
  },
  {
   "cell_type": "markdown",
   "source": [
    "15. (2б) Викличте одну з задекорованих функцій і виведіть її результат на екран."
   ],
   "metadata": {
    "id": "6QkS0Kxzo4UR"
   }
  },
  {
   "cell_type": "code",
   "source": [
    "# Call the decorated function (e.g., calculate_sum)\n",
    "result = calculate_sum(3, 5)\n",
    "\n",
    "# Display the result\n",
    "print(result)\n"
   ],
   "metadata": {
    "id": "BCCCPai6o-y5"
   },
   "execution_count": null,
   "outputs": []
  },
  {
   "cell_type": "markdown",
   "source": [
    "# Вітаю! Ви велика(ий) молодець, що впоралась(вся). Похваліть себе та побалуйте чимось приємним. Я Вами пишаюся."
   ],
   "metadata": {
    "id": "CSN0Q5pMQVNQ"
   }
  }
 ]
}
