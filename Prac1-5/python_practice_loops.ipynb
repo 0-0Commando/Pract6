{
 "nbformat": 4,
 "nbformat_minor": 0,
 "metadata": {
  "colab": {
   "provenance": []
  },
  "kernelspec": {
   "name": "python3",
   "display_name": "Python 3"
  },
  "language_info": {
   "name": "python"
  }
 },
 "cells": [
  {
   "cell_type": "markdown",
   "source": [
    "# I. range."
   ],
   "metadata": {
    "id": "bhnw_OBiped2"
   }
  },
  {
   "cell_type": "markdown",
   "source": [
    "1. (4 бали) Створіть обʼєкт типу range, який буде містити послідовність цілих чисел від 0 до 9 включно. Виведіть його довжину (кількість значень)."
   ],
   "metadata": {
    "id": "cS4sWGwctkLH"
   }
  },
  {
   "cell_type": "code",
   "source": [
    "my_range = range(10)  # Creates a range from 0 to 9 (inclusive)\n",
    "print(list(my_range))\n"
   ],
   "metadata": {
    "id": "1XFhN5gVte4X"
   },
   "execution_count": null,
   "outputs": []
  },
  {
   "cell_type": "markdown",
   "source": [
    "2. (5 балів) Створіть обʼєкт типу range, який буде містити послідовність цілих чисел (16, 13, 10, 7, 4, 1, -2, -5)"
   ],
   "metadata": {
    "id": "VZ0Dh0m-t9tM"
   }
  },
  {
   "cell_type": "code",
   "execution_count": null,
   "metadata": {
    "id": "YavF1Agaoe8J"
   },
   "outputs": [],
   "source": [
    "my_range = range(16, -6, -3)\n",
    "print(list(my_range))"
   ]
  },
  {
   "cell_type": "markdown",
   "source": [
    "3. (4 бали) Створіть змінну зі значенням цілого типу. Перевірте, чи вона належить проміжку від 49 до 100 включно. Як ви гадаєте, для чого використовуються range?"
   ],
   "metadata": {
    "id": "nBmE3_nMuavj"
   }
  },
  {
   "cell_type": "code",
   "source": [
    "my_list = list(range(49, 101))\n",
    "print(my_list)\n"
   ],
   "metadata": {
    "id": "5KmgBmOIuku4"
   },
   "execution_count": null,
   "outputs": []
  },
  {
   "cell_type": "markdown",
   "source": [
    "**місце для відповіді*"
   ],
   "metadata": {
    "id": "hZHtKQUJxDxj"
   }
  },
  {
   "cell_type": "markdown",
   "source": [
    "# II. Comprehensions."
   ],
   "metadata": {
    "id": "56FjMkPatTD6"
   }
  },
  {
   "cell_type": "markdown",
   "source": [
    "4. (6 балів) Створіть множину (set), використовуючи range та set comprehension."
   ],
   "metadata": {
    "id": "AZyfyNfYvOyq"
   }
  },
  {
   "cell_type": "code",
   "source": [
    "my_set = {1, 2, 3, 4, 5}\n",
    "\n",
    "my_range = range(1, 6)\n",
    "\n",
    "# Set Comprehension\n",
    "my_set_comprehension = {x for x in range(1, 6)}\n",
    "\n",
    "print(\"Set:\", my_set)\n",
    "print(\"Range:\", list(my_range))\n",
    "print(\"Set Comprehension:\", my_set_comprehension)\n"
   ],
   "metadata": {
    "id": "DE8oNYSUvNfR"
   },
   "execution_count": null,
   "outputs": []
  },
  {
   "cell_type": "markdown",
   "source": [
    "5. (8 балів) Створіть словник, використовуючи dict comprehension, що містить if else. Коли слід використовувати comprehensions, а коли їх слід уникати?"
   ],
   "metadata": {
    "id": "5IsyYnolvWxJ"
   }
  },
  {
   "cell_type": "code",
   "source": [
    "my_dict = {'a': 1, 'b': 2, 'c': 3, 'd': 4}\n",
    "# Dictionary Comprehension with If-Else\n",
    "my_dict_comprehension = {key: value**2 if value % 2 == 0 else value**3 for key, value in my_dict.items()}\n",
    "print(\"Original Dictionary:\", my_dict)\n",
    "print(\"Dict Comprehension with If-Else:\", my_dict_comprehension)\n"
   ],
   "metadata": {
    "id": "PTLiarj4vWVu"
   },
   "execution_count": null,
   "outputs": []
  },
  {
   "cell_type": "markdown",
   "source": [
    "**місце для відповіді*"
   ],
   "metadata": {
    "id": "PcwgYcjdxYPA"
   }
  },
  {
   "cell_type": "markdown",
   "source": [
    "6. (7 балів) Створіть список з рядками та запишіть його у змінну. Створіть ще один список на основі попереднього, де кожен рядок буде містити тільки три перших заглавних символи. Наприклад: ['hello', 'i', 'dont', 'care'] -> ['HEL', 'I', 'DON', 'CAR']"
   ],
   "metadata": {
    "id": "xPVEDwk6vfhU"
   }
  },
  {
   "cell_type": "code",
   "source": [
    "original_list = ['hello', 'i', 'dont', 'care']\n",
    "\n",
    "# Create a new list with the first three capital characters of each word\n",
    "modified_list = [word[:3].upper() for word in original_list]\n",
    "\n",
    "print(\"Original List:\", original_list)\n",
    "print(\"Modified List:\", modified_list)\n"
   ],
   "metadata": {
    "id": "l1FAM69Owi7q"
   },
   "execution_count": null,
   "outputs": []
  },
  {
   "cell_type": "markdown",
   "source": [
    "# III. Цикли."
   ],
   "metadata": {
    "id": "9zEB8ekEtTnQ"
   }
  },
  {
   "cell_type": "markdown",
   "source": [
    "7. (6 балів) Продемонструйте роботу циклу while. Чи можна використовувати в умові циклу булеві значення? Чому?"
   ],
   "metadata": {
    "id": "AlEfFe4Fwv8n"
   }
  },
  {
   "cell_type": "code",
   "source": [
    "is_condition_true = True\n",
    "\n",
    "while is_condition_true:\n",
    "    print(\"Inside the loop\")\n",
    "    is_condition_true = False\n"
   ],
   "metadata": {
    "id": "kiDSbqo0wwMZ"
   },
   "execution_count": null,
   "outputs": []
  },
  {
   "cell_type": "markdown",
   "source": [
    "8. (8 балів) Напишіть програму, яка виведе на екран непарні числа в діапазоні від 0 до 20 включно."
   ],
   "metadata": {
    "id": "J9TkD5_Cx3I1"
   }
  },
  {
   "cell_type": "code",
   "source": [
    "number = 0\n",
    "\n",
    "while number <= 20:\n",
    "    if number % 2 != 0:\n",
    "        print(number)\n",
    "    number += 1\n"
   ],
   "metadata": {
    "id": "5A1d-qvVx34B"
   },
   "execution_count": null,
   "outputs": []
  },
  {
   "cell_type": "markdown",
   "source": [
    "9. (7 балів) Створіть список з елементами булевого типу або None. Використовуючи цикли, отримайте в результаті список з кортежами, де перший елемент кортежу - індекс(ціле число), а другий елемент - відповідне значення з першого списку.\n",
    "\n",
    "Наприклад, [True, True, None, False] -> [(0, True), (1, True), (2, None), (3, False)]"
   ],
   "metadata": {
    "id": "xN6Kfmqex4NU"
   }
  },
  {
   "cell_type": "code",
   "source": [
    "original_list = [True, True, None, False]\n",
    "\n",
    "result_list = [(index, value) for index, value in enumerate(original_list)]\n",
    "\n",
    "print(result_list)\n"
   ],
   "metadata": {
    "id": "YhVlQnNIx405"
   },
   "execution_count": null,
   "outputs": []
  },
  {
   "cell_type": "markdown",
   "source": [
    "10. (10 балів) Створіть словник, де ключі - назви книжок, а значення - їхня кількість у наявності в Вашій міні-бібліотеці. Бібліотека має містити щонайменше 6 книжок (6 пар значень у словнику) і щонайбільше 10 (пар значень). Використовуючи цикли, оновіть словник (не створюйте новий) так, щоби кількість книг у наявності збільшилося на 5 кожної книги. Наприклад,\n",
    "{'It': 3, 'Fault stars': 10, 'Bible': 17, 'Psychological romance': 4, 'Harry Potter': 13} -> {'It': 8, 'Fault stars': 15, 'Bible': 22, 'Psychological romance': 9, 'Harry Potter': 18}"
   ],
   "metadata": {
    "id": "cJNlWxHLx5mW"
   }
  },
  {
   "cell_type": "code",
   "source": [
    "library = {'It': 3, 'Fault stars': 10, 'Bible': 17, 'Psychological romance': 4, 'Harry Potter': 13}\n",
    "\n",
    "for book in library:\n",
    "    library[book] += 5\n",
    "\n",
    "print(library)\n"
   ],
   "metadata": {
    "id": "pI7I71ao0qh_"
   },
   "execution_count": null,
   "outputs": []
  },
  {
   "cell_type": "markdown",
   "source": [
    "11. (15 балів) Визначте цілочислену змінну n, що належить проміжку від 4 до 10 включно. Використовуючи цикли, виведіть в консоль наступний патерн.\n",
    "\n",
    "#\n",
    "##\n",
    "###\n",
    "####\n",
    "\n",
    "... #*n\n"
   ],
   "metadata": {
    "id": "qdZA6qi82GBa"
   }
  },
  {
   "cell_type": "code",
   "source": [
    "n = 5\n",
    "\n",
    "for i in range(4, n + 1):\n",
    "    print(\"#\" * i)\n"
   ],
   "metadata": {
    "id": "aaHuUQHfx6YO"
   },
   "execution_count": null,
   "outputs": []
  },
  {
   "cell_type": "markdown",
   "source": [
    "12. (20 балів) Гра \"Нумо вгадай\".\n",
    "Розробіть просту гру, де користувач має вгадати випадкове число від 1 до 100. Для генерації випадкового числа використовуйте функцію random.randint(a, b) (тут a та b включно). Для отримання числа з консолі використовуйте функцію input(), результат якої обовʼязково явно приведіть до типу int.\n",
    "\n",
    "Підказка: використовуйте цикл while та умови if-else, щоб повідомити користувачу піказки (напр. \"Більше\", \"Менше\") поки користувач не вгадає. По завершенню виведіть кількість спроб, які знадобилися для вгадування.\n"
   ],
   "metadata": {
    "id": "XOniyaun74Ed"
   }
  },
  {
   "cell_type": "code",
   "source": [
    "import random\n",
    "\n",
    "random_number = random.randint(1, 100)\n",
    "guess_attempts = 0\n",
    "\n",
    "while True:\n",
    "    user_guess = int(input(\"Guess the number (between 1 and 100): \"))\n",
    "    guess_attempts += 1\n",
    "\n",
    "    if user_guess == random_number:\n",
    "        print(f\"Congratulations! You guessed the correct number {random_number} in {guess_attempts} attempts.\")\n",
    "        break\n",
    "    elif user_guess < random_number:\n",
    "        print(\"More\")\n",
    "    else:\n",
    "        print(\"Less\")\n"
   ],
   "metadata": {
    "id": "iomCeUuW73NG"
   },
   "execution_count": null,
   "outputs": []
  },
  {
   "cell_type": "markdown",
   "source": [
    "# Вітаю! Ви велика(ий) молодець, що впоралась(вся). Похваліть себе та побалуйте чимось приємним. Я Вами пишаюся."
   ],
   "metadata": {
    "id": "jTs-rqOptY2R"
   }
  }
 ]
}
